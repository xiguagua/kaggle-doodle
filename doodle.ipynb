{
 "cells": [
  {
   "cell_type": "code",
   "execution_count": 1,
   "metadata": {},
   "outputs": [],
   "source": [
    "work_dir = '/Volumes/Xiguagua/kaggle/doodle/origin'"
   ]
  },
  {
   "cell_type": "code",
   "execution_count": 2,
   "metadata": {},
   "outputs": [
    {
     "name": "stdout",
     "output_type": "stream",
     "text": [
      "/Volumes/Xiguagua/kaggle/doodle/origin\n"
     ]
    }
   ],
   "source": [
    "cd {work_dir}"
   ]
  },
  {
   "cell_type": "code",
   "execution_count": 3,
   "metadata": {},
   "outputs": [
    {
     "name": "stdout",
     "output_type": "stream",
     "text": [
      "Number of labels: 340\n"
     ]
    }
   ],
   "source": [
    "%reload_ext autoreload\n",
    "%autoreload 2\n",
    "%matplotlib inline\n",
    "from matplotlib import pyplot as plt\n",
    "from pathlib import Path\n",
    "import numpy as np\n",
    "import pandas as pd\n",
    "import cv2\n",
    "import ast\n",
    "from PIL import Image\n",
    "\n",
    "from fastai import *\n",
    "from fastai.vision import *\n",
    "from sklearn.model_selection import train_test_split\n",
    "\n",
    "from tqdm import tqdm\n",
    "import concurrent.futures\n",
    "\n",
    "\n",
    "# classes_path = Path('../input/train_simplified/')\n",
    "train_path = Path(work_dir)/'train_simplified/'\n",
    "# iter_cls_path = cls_path.iterdir()\n",
    "\n",
    "class_dict = {x.stem.replace(\" \", \"_\"):i for i, x in enumerate(train_path.iterdir())}\n",
    "labels = {x.stem.replace(\" \", \"_\") for i, x in enumerate(train_path.iterdir())}\n",
    "\n",
    "n_labels = len(labels)\n",
    "print(\"Number of labels: {}\".format(n_labels))"
   ]
  },
  {
   "cell_type": "code",
   "execution_count": 4,
   "metadata": {},
   "outputs": [],
   "source": [
    "def get_doodle_class(fname, recognized, pct):\n",
    "    df = pd.read_csv(fname)\n",
    "    if recognized==True: df = df[df['recognized']==True]\n",
    "    df = df.sample(frac=pct, replace=False)\n",
    "    return df\n",
    "    \n",
    "def get_doodle_dataset(path, pct = 0.05, random_state=22, recognized=False, max_workers=4):\n",
    "    fnames = path.ls()\n",
    "    flist = list()\n",
    "    np.random.seed(random_state)\n",
    "    with concurrent.futures.ProcessPoolExecutor(max_workers=max_workers) as executor:\n",
    "        for c in tqdm(executor.map(partial(get_doodle_class, recognized=recognized, pct=pct),\n",
    "                                           fnames), total=len(fnames)):\n",
    "            flist.append(c)\n",
    "    df = pd.concat(flist).reset_index(drop=True)\n",
    "    df['word'] = df['word'].str.replace(' ', '_')\n",
    "    return df"
   ]
  },
  {
   "cell_type": "code",
   "execution_count": 5,
   "metadata": {},
   "outputs": [],
   "source": [
    "test = pd.read_csv(Path(work_dir)/'test_simplified.csv')"
   ]
  },
  {
   "cell_type": "code",
   "execution_count": 6,
   "metadata": {},
   "outputs": [
    {
     "name": "stderr",
     "output_type": "stream",
     "text": [
      "100%|██████████| 340/340 [05:09<00:00,  1.10it/s]\n"
     ]
    }
   ],
   "source": [
    "train = get_doodle_dataset(train_path, pct=0.015, random_state=112, max_workers=2, recognized=True)"
   ]
  },
  {
   "cell_type": "code",
   "execution_count": 7,
   "metadata": {},
   "outputs": [],
   "source": [
    "train['word'] = train['word'].astype('category')"
   ]
  },
  {
   "cell_type": "code",
   "execution_count": 11,
   "metadata": {},
   "outputs": [],
   "source": [
    "train, valid = train_test_split(train, test_size=0.20, random_state=512)"
   ]
  },
  {
   "cell_type": "code",
   "execution_count": 12,
   "metadata": {},
   "outputs": [
    {
     "name": "stdout",
     "output_type": "stream",
     "text": [
      "(546147, 6) (136537, 6) (112199, 3)\n"
     ]
    }
   ],
   "source": [
    "print(train.shape, valid.shape, test.shape)"
   ]
  },
  {
   "cell_type": "markdown",
   "metadata": {},
   "source": [
    "## Get Learner"
   ]
  },
  {
   "cell_type": "code",
   "execution_count": 15,
   "metadata": {},
   "outputs": [],
   "source": [
    "BASE_SIZE=256\n",
    "\n",
    "\n",
    "def strokes_to_np(raw_strokes, size=64, lw=6, time_color=True):\n",
    "    img = np.zeros((BASE_SIZE, BASE_SIZE), np.uint8)\n",
    "    for t, stroke in enumerate(raw_strokes):\n",
    "        for i in range(len(stroke) - 1):\n",
    "            color = 255 - min(t, 10) * 13 if time_color else 255\n",
    "            _ = cv2.line(img, (stroke[0][i], stroke[1][i]),\n",
    "                        (stroke[0][i+1], stroke[0][i+1]), color, lw)\n",
    "    \n",
    "    return cv2.resize(img, (size, size)) if size != BASE_SIZE else img\n",
    "    "
   ]
  },
  {
   "cell_type": "code",
   "execution_count": 16,
   "metadata": {},
   "outputs": [],
   "source": [
    "class DoodleDataset(Dataset):\n",
    "    def __init__(self, df, size=256, is_test=False):\n",
    "        self.drawings = df['drawing'].values\n",
    "        self.size = size\n",
    "        self.is_test = is_test\n",
    "        self.y = None if self.is_test else df['word'].cat.codes.values.astype('int64')\n",
    "        self.c = None if self.is_test else int(df['word'].cat.codes.max()+1)\n",
    "        self.classes = None if self.is_test else df['word'].cat.categories.values\n",
    "    def __len__(self): return len(self.drawings)\n",
    "    def __getitem__(self, i):\n",
    "        im = strokes_to_np(ast.literal_eval(self.drawings[i]), size=self.size)/255 # normalise between [0,1]\n",
    "        im = Image(Tensor(im).unsqueeze(0).repeat(3,1,1)) # copy to three channels\n",
    "        if self.is_test: return im, 0 # placeholder for learn.get_preds\n",
    "        else: return im, self.y[i]"
   ]
  },
  {
   "cell_type": "code",
   "execution_count": 18,
   "metadata": {},
   "outputs": [],
   "source": [
    "bs = 512\n",
    "sz = 64\n",
    "\n",
    "train_ds = DoodleDataset(train, size=sz)\n",
    "valid_ds = DoodleDataset(valid, size=sz)\n",
    "test_ds = DoodleDataset(test, size=sz, is_test=True)"
   ]
  },
  {
   "cell_type": "code",
   "execution_count": 19,
   "metadata": {},
   "outputs": [
    {
     "data": {
      "text/plain": [
       "ImageDataBunch;\n",
       "Train: <__main__.DoodleDataset object at 0x1a2b8da940>;\n",
       "Valid: <__main__.DoodleDataset object at 0x1a2b8da518>;\n",
       "Test: <__main__.DoodleDataset object at 0x1a2b8daeb8>"
      ]
     },
     "execution_count": 19,
     "metadata": {},
     "output_type": "execute_result"
    }
   ],
   "source": [
    "data = ImageDataBunch.create(train_ds, valid_ds, test_ds, bs=bs)\n",
    "data.normalize(imagenet_stats)"
   ]
  },
  {
   "cell_type": "markdown",
   "metadata": {},
   "source": [
    "## Fit the modal"
   ]
  },
  {
   "cell_type": "code",
   "execution_count": 29,
   "metadata": {},
   "outputs": [],
   "source": [
    "learn = create_cnn(data, \n",
    "                   models.resnet34, \n",
    "                   metrics=error_rate,\n",
    "                   loss_func=F.cross_entropy)"
   ]
  },
  {
   "cell_type": "code",
   "execution_count": null,
   "metadata": {},
   "outputs": [
    {
     "data": {
      "text/html": [
       "\n",
       "    <div>\n",
       "        <style>\n",
       "        \t/* Turns off some styling */\n",
       "        \tprogress {\n",
       "\n",
       "            \t/* gets rid of default border in Firefox and Opera. */\n",
       "            \tborder: none;\n",
       "\n",
       "            \t/* Needs to be in here for Safari polyfill so background images work as expected. */\n",
       "            \tbackground-size: auto;\n",
       "            }\n",
       "\n",
       "            .progress-bar-interrupted, .progress-bar-interrupted::-webkit-progress-bar {\n",
       "                background: #F44336;\n",
       "            }\n",
       "        </style>\n",
       "      <progress value='0' class='' max='1', style='width:300px; height:20px; vertical-align: middle;'></progress>\n",
       "      0.00% [0/1 00:00<00:00]\n",
       "    </div>\n",
       "    \n",
       "<table style='width:300px; margin-bottom:10px'>\n",
       "  <tr>\n",
       "    <th>epoch</th>\n",
       "    <th>train_loss</th>\n",
       "    <th>valid_loss</th>\n",
       "    <th>error_rate</th>\n",
       "  </tr>\n",
       "  <tr>\n",
       "\n",
       "  </tr>\n",
       "</table>\n",
       "\n",
       "\n",
       "    <div>\n",
       "        <style>\n",
       "        \t/* Turns off some styling */\n",
       "        \tprogress {\n",
       "\n",
       "            \t/* gets rid of default border in Firefox and Opera. */\n",
       "            \tborder: none;\n",
       "\n",
       "            \t/* Needs to be in here for Safari polyfill so background images work as expected. */\n",
       "            \tbackground-size: auto;\n",
       "            }\n",
       "\n",
       "            .progress-bar-interrupted, .progress-bar-interrupted::-webkit-progress-bar {\n",
       "                background: #F44336;\n",
       "            }\n",
       "        </style>\n",
       "      <progress value='43' class='' max='1067', style='width:300px; height:20px; vertical-align: middle;'></progress>\n",
       "      4.03% [43/1067 1:14:36<29:36:48 6.4709]\n",
       "    </div>\n",
       "    "
      ],
      "text/plain": [
       "<IPython.core.display.HTML object>"
      ]
     },
     "metadata": {},
     "output_type": "display_data"
    }
   ],
   "source": [
    "learn.lr_find()"
   ]
  },
  {
   "cell_type": "code",
   "execution_count": null,
   "metadata": {},
   "outputs": [],
   "source": []
  },
  {
   "cell_type": "markdown",
   "metadata": {},
   "source": [
    "## Archive"
   ]
  },
  {
   "cell_type": "code",
   "execution_count": null,
   "metadata": {},
   "outputs": [],
   "source": [
    "def stroke2img(raw_strokes, size=64):\n",
    "    img = Image.new()"
   ]
  }
 ],
 "metadata": {
  "kernelspec": {
   "display_name": "Python 3",
   "language": "python",
   "name": "python3"
  },
  "language_info": {
   "codemirror_mode": {
    "name": "ipython",
    "version": 3
   },
   "file_extension": ".py",
   "mimetype": "text/x-python",
   "name": "python",
   "nbconvert_exporter": "python",
   "pygments_lexer": "ipython3",
   "version": "3.6.2"
  }
 },
 "nbformat": 4,
 "nbformat_minor": 2
}
