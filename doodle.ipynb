{
 "cells": [
  {
   "cell_type": "code",
   "execution_count": null,
   "metadata": {},
   "outputs": [],
   "source": [
    "from pathlib import Path\n",
    "\n",
    "\n",
    "# classes_path = Path('../input/train_simplified/')\n",
    "cls_path = Path('../input/train_simplified/')\n",
    "# iter_cls_path = cls_path.iterdir()\n",
    "\n",
    "class_dict = {x.stem.replace(\" \", \"_\"):i for i, x in enumerate(cls_path.iterdir())}\n",
    "labels = {x.stem.replace(\" \", \"_\") for i, x in enumerate(cls_path.iterdir())}\n",
    "\n",
    "n_labels = len(labels)\n",
    "print(\"Number of labels: {}\".format(n_labels))"
   ]
  },
  {
   "cell_type": "code",
   "execution_count": null,
   "metadata": {},
   "outputs": [],
   "source": [
    "import pdb\n",
    "\n",
    "max_img_per_class = 10\n",
    "wshape = 64\n",
    "hshape = 64\n",
    "# to image from stroke\n",
    "def drawing_to_np(drawing, shape=(64, 64)):\n",
    "    drawing = ast.literal_eval(drawing)\n",
    "    fig, ax = plt.subplots()\n",
    "    for x,y in drawing:\n",
    "        ax.plot(x, y, marker='.')\n",
    "        ax.axis('off')\n",
    "    \n",
    "    fig.canvas.draw()\n",
    "    # Convert images to numpy arrat\n",
    "    np_drawing = np.array(fig.canvas.renderer._renderer)\n",
    "    plt.close(fig)\n",
    "#     pdb.set_trace()\n",
    "    img = cv2.resize(np_drawing, shape)\n",
    "    img_gray = cv2.cvtColor(img, cv2.COLOR_RGB2GRAY)\n",
    "#     img_expanded = img_gray[:, :, np.newaxis]\n",
    "#     img_expanded = img_gray[np.newaxis, :, :]\n",
    "#     pdb.set_trace()\n",
    "    return img_gray\n",
    "#     return img_expanded\n",
    "#     return img\n",
    "\n",
    "def path_to_img(path):\n",
    "    train = pd.read_csv(path, usecols=['word', 'drawing'], nrows=max_img_per_class)\n",
    "    train['word'] = train.word.str.replace(\" \", \"_\")\n",
    "    train['drawing_np'] = train['drawing'].map(drawing_to_np)\n",
    "    label = train.word.map(class_dict)\n",
    "    return  train['drawing_np'], label\n",
    "\n"
   ]
  },
  {
   "cell_type": "code",
   "execution_count": null,
   "metadata": {},
   "outputs": [],
   "source": [
    "# next(cls_path.iterdir()).stat().st_size\n",
    "\n",
    "def save_image(image_numpy, image_path):\n",
    "    image_pil = Image.fromarray(image_numpy)\n",
    "    image_pil.save(image_path)\n",
    "\n",
    "def csv2img(fn, save_path=Path('.')):\n",
    "    n_row = 100\n",
    "    train = pd.read_csv(fn, usecols=['word', 'drawing'], nrows=n_row)\n",
    "    train['word'] = train.word.str.replace(\" \", \"_\")\n",
    "    train['drawing_np'] = train['drawing'].apply(drawing_to_np, True, shape=(128, 128))\n",
    "#     label = train.word.map(class_dict)\n",
    "#     return  train['drawing_np'], label\n",
    "    for i, np_drawing in enumerate(train['drawing_np']):\n",
    "        save_image(np_drawing, save_path/f'car{i}.png')\n",
    "        \n",
    "    "
   ]
  },
  {
   "cell_type": "code",
   "execution_count": null,
   "metadata": {},
   "outputs": [],
   "source": [
    "# keras generator \n",
    "\n",
    "fileList = glob(\"../input/train_simplified/*.csv\")     \n",
    "def imageLoader(files, batch_size):\n",
    "\n",
    "    L = len(files*max_img_per_class)\n",
    "\n",
    "    while True:\n",
    "\n",
    "        batch_start = 0\n",
    "        batch_end = batch_size\n",
    "\n",
    "        while batch_start < L:\n",
    "            limit = min(batch_end, L)\n",
    "        \n",
    "            Xs, Ys = map(path_to_img, files[batch_start:limit])\n",
    "            \n",
    "            for X, Y in zip(Xs, Ys):\n",
    "                yield (X,Y)    \n",
    "                batch_start += batch_size   \n",
    "                batch_end += batch_size\n",
    "           "
   ]
  }
 ],
 "metadata": {
  "kernelspec": {
   "display_name": "Python 3",
   "language": "python",
   "name": "python3"
  },
  "language_info": {
   "codemirror_mode": {
    "name": "ipython",
    "version": 3
   },
   "file_extension": ".py",
   "mimetype": "text/x-python",
   "name": "python",
   "nbconvert_exporter": "python",
   "pygments_lexer": "ipython3",
   "version": "3.6.2"
  }
 },
 "nbformat": 4,
 "nbformat_minor": 2
}
